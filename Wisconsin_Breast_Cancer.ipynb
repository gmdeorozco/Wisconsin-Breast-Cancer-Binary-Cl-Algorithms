{
  "nbformat": 4,
  "nbformat_minor": 0,
  "metadata": {
    "colab": {
      "provenance": [],
      "authorship_tag": "ABX9TyOMd5cbobdsuc0KoXVyXI4e",
      "include_colab_link": true
    },
    "kernelspec": {
      "name": "python3",
      "display_name": "Python 3"
    },
    "language_info": {
      "name": "python"
    }
  },
  "cells": [
    {
      "cell_type": "markdown",
      "metadata": {
        "id": "view-in-github",
        "colab_type": "text"
      },
      "source": [
        "<a href=\"https://colab.research.google.com/github/gmdeorozco/Wisconsin-Breast-Cancer-Binary-Cl-Algorithms/blob/main/Wisconsin_Breast_Cancer.ipynb\" target=\"_parent\"><img src=\"https://colab.research.google.com/assets/colab-badge.svg\" alt=\"Open In Colab\"/></a>"
      ]
    },
    {
      "cell_type": "markdown",
      "source": [
        "# **Binary Classification with Logistic Regression: Breast Cancer Wisconsin Dataset**"
      ],
      "metadata": {
        "id": "w-KBUF-J_zvq"
      }
    },
    {
      "cell_type": "markdown",
      "source": [
        "The provided code performs binary classification using the logistic regression model on the Breast Cancer Wisconsin dataset. Here's a brief explanation of each part:\n",
        "\n",
        "1. **Import necessary libraries:** Import the required libraries for data manipulation, model training, and evaluation, including NumPy and Pandas for data handling, scikit-learn's `load_breast_cancer` to access the dataset, and functions for model evaluation such as `accuracy_score`, `confusion_matrix`, and `classification_report`.\n",
        "\n",
        "2. **Load the Breast Cancer Wisconsin dataset:** Load the Breast Cancer Wisconsin dataset using the `load_breast_cancer()` function from scikit-learn. The features are stored in the variable `X`, and the target labels (binary: 0 for benign, 1 for malignant) are stored in the variable `y`.\n",
        "\n",
        "3. **Split the dataset into training and testing sets:** Use `train_test_split()` to split the dataset into training and testing sets. The test set contains 20% of the data, and the random state is set to 42 for reproducibility.\n",
        "\n",
        "4. **Create a logistic regression model for binary classification:** Initialize a logistic regression model using `LogisticRegression()` from scikit-learn.\n",
        "\n",
        "5. **Train the model on the training data:** Fit the logistic regression model to the training data using `model.fit(X_train, y_train)`.\n",
        "\n",
        "6. **Make predictions on the test data:** Use the trained model to predict the target labels for the test data. The predicted labels are stored in the variable `y_pred`.\n",
        "\n",
        "7. **Evaluate the model:** Assess the performance of the logistic regression model using three metrics:\n",
        "   - Accuracy: Calculate the accuracy of the model's predictions using `accuracy_score(y_test, y_pred)`.\n",
        "   - Confusion Matrix: Create a confusion matrix to analyze the model's true positive, true negative, false positive, and false negative predictions using `confusion_matrix(y_test, y_pred)`.\n",
        "   - Classification Report: Generate a detailed classification report that includes precision, recall, F1-score, and support for both classes using `classification_report(y_test, y_pred)`.\n",
        "\n",
        "8. **Print the results:** Display the results of the model evaluation, including the accuracy, confusion matrix, and classification report."
      ],
      "metadata": {
        "id": "ohYULseK-txt"
      }
    },
    {
      "cell_type": "code",
      "execution_count": 1,
      "metadata": {
        "colab": {
          "base_uri": "https://localhost:8080/"
        },
        "id": "NxFYvXsX9SD1",
        "outputId": "3f95f0b1-216b-4d3c-de43-f4e514751865"
      },
      "outputs": [
        {
          "output_type": "stream",
          "name": "stdout",
          "text": [
            "Accuracy: 0.9649122807017544\n",
            "Confusion Matrix:\n",
            "[[40  3]\n",
            " [ 1 70]]\n",
            "Classification Report:\n",
            "              precision    recall  f1-score   support\n",
            "\n",
            "           0       0.98      0.93      0.95        43\n",
            "           1       0.96      0.99      0.97        71\n",
            "\n",
            "    accuracy                           0.96       114\n",
            "   macro avg       0.97      0.96      0.96       114\n",
            "weighted avg       0.97      0.96      0.96       114\n",
            "\n"
          ]
        },
        {
          "output_type": "stream",
          "name": "stderr",
          "text": [
            "/usr/local/lib/python3.10/dist-packages/sklearn/linear_model/_logistic.py:458: ConvergenceWarning: lbfgs failed to converge (status=1):\n",
            "STOP: TOTAL NO. of ITERATIONS REACHED LIMIT.\n",
            "\n",
            "Increase the number of iterations (max_iter) or scale the data as shown in:\n",
            "    https://scikit-learn.org/stable/modules/preprocessing.html\n",
            "Please also refer to the documentation for alternative solver options:\n",
            "    https://scikit-learn.org/stable/modules/linear_model.html#logistic-regression\n",
            "  n_iter_i = _check_optimize_result(\n"
          ]
        }
      ],
      "source": [
        "# Import necessary libraries\n",
        "import numpy as np\n",
        "import pandas as pd\n",
        "from sklearn.datasets import load_breast_cancer\n",
        "from sklearn.model_selection import train_test_split\n",
        "from sklearn.linear_model import LogisticRegression\n",
        "from sklearn.metrics import accuracy_score, confusion_matrix, classification_report\n",
        "\n",
        "# Load the Breast Cancer Wisconsin dataset\n",
        "data = load_breast_cancer()\n",
        "X = data.data\n",
        "y = data.target\n",
        "\n",
        "# Split the dataset into training and testing sets\n",
        "X_train, X_test, y_train, y_test = train_test_split(X, y, test_size=0.2, random_state=42)\n",
        "\n",
        "# Create a logistic regression model for binary classification\n",
        "model = LogisticRegression()\n",
        "\n",
        "# Train the model on the training data\n",
        "model.fit(X_train, y_train)\n",
        "\n",
        "# Make predictions on the test data\n",
        "y_pred = model.predict(X_test)\n",
        "\n",
        "# Evaluate the model\n",
        "accuracy = accuracy_score(y_test, y_pred)\n",
        "conf_matrix = confusion_matrix(y_test, y_pred)\n",
        "classification_rep = classification_report(y_test, y_pred)\n",
        "\n",
        "# Print the results\n",
        "print(\"Accuracy:\", accuracy)\n",
        "print(\"Confusion Matrix:\")\n",
        "print(conf_matrix)\n",
        "print(\"Classification Report:\")\n",
        "print(classification_rep)\n"
      ]
    }
  ]
}